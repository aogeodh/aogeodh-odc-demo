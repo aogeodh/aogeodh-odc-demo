{
 "cells": [
  {
   "cell_type": "markdown",
   "metadata": {},
   "source": [
    "# OpenDataCube installation \n",
    "## AWS Workspace within Asia Pacific 2 Region - Sydney"
   ]
  },
  {
   "cell_type": "markdown",
   "metadata": {},
   "source": [
    "### Confirm OS, database and datacube-core versions"
   ]
  },
  {
   "cell_type": "code",
   "execution_count": 14,
   "metadata": {},
   "outputs": [
    {
     "name": "stdout",
     "output_type": "stream",
     "text": [
      "Description:\tUbuntu 18.04.5 LTS\r\n"
     ]
    }
   ],
   "source": [
    "!lsb_release -d"
   ]
  },
  {
   "cell_type": "code",
   "execution_count": 15,
   "metadata": {},
   "outputs": [
    {
     "name": "stdout",
     "output_type": "stream",
     "text": [
      "postgres (PostgreSQL) 12.3\r\n"
     ]
    }
   ],
   "source": [
    "!postgres --version"
   ]
  },
  {
   "cell_type": "code",
   "execution_count": 8,
   "metadata": {},
   "outputs": [
    {
     "name": "stdout",
     "output_type": "stream",
     "text": [
      "Open Data Cube core, version 1.8.3\r\n"
     ]
    }
   ],
   "source": [
    "!datacube --version"
   ]
  },
  {
   "cell_type": "markdown",
   "metadata": {},
   "source": [
    "### Initialise datacube database"
   ]
  },
  {
   "cell_type": "code",
   "execution_count": 5,
   "metadata": {},
   "outputs": [],
   "source": [
    "!dropdb datacube\n",
    "!createdb datacube"
   ]
  },
  {
   "cell_type": "markdown",
   "metadata": {},
   "source": [
    "* Prepare a datacube database configuration file as below in the HOME or ~/ directory"
   ]
  },
  {
   "cell_type": "code",
   "execution_count": 6,
   "metadata": {},
   "outputs": [
    {
     "name": "stdout",
     "output_type": "stream",
     "text": [
      "[datacube]\r\n",
      "db_datacube: datacube\r\n",
      "\r\n",
      "db_hostname:\r\n",
      "db_username: simonaoliver\r\n"
     ]
    }
   ],
   "source": [
    "!cat ~/.datacube.conf"
   ]
  },
  {
   "cell_type": "markdown",
   "metadata": {},
   "source": [
    "* initialise the database with the datacube schema"
   ]
  },
  {
   "cell_type": "code",
   "execution_count": 7,
   "metadata": {},
   "outputs": [
    {
     "name": "stdout",
     "output_type": "stream",
     "text": [
      "Initialising database...\n",
      "\u001b[1mCreated.\u001b[0m\n",
      "Checking indexes/views.\n",
      "Done.\n"
     ]
    }
   ],
   "source": [
    "!datacube system init"
   ]
  },
  {
   "cell_type": "markdown",
   "metadata": {},
   "source": [
    "## Configuring datasets"
   ]
  },
  {
   "cell_type": "markdown",
   "metadata": {},
   "source": [
    "** https://datacube-core.readthedocs.io/en/latest/ops/dataset_documents.html"
   ]
  },
  {
   "cell_type": "markdown",
   "metadata": {},
   "source": [
    "### Core concepts - Product"
   ]
  },
  {
   "cell_type": "markdown",
   "metadata": {},
   "source": [
    "* Product - description or specification that describes how a dataset is constructed eg. Sentinel 2 Analysis Ready Data"
   ]
  },
  {
   "cell_type": "markdown",
   "metadata": {},
   "source": [
    "### Core concepts - Dataset"
   ]
  },
  {
   "cell_type": "markdown",
   "metadata": {},
   "source": [
    "* Dataset - instantiation / instance of a product eg. representing an acquisition eg. Sentinel 2 Analysis Ready Data acquired over point x/y at time t"
   ]
  },
  {
   "cell_type": "markdown",
   "metadata": {},
   "source": [
    "### Core concepts of configuration - UUID"
   ]
  },
  {
   "cell_type": "markdown",
   "metadata": {},
   "source": [
    "* Unique identifiers are used to identify datasets. Datasets are described in a dataset configuration YAML document."
   ]
  },
  {
   "cell_type": "markdown",
   "metadata": {},
   "source": [
    "### Core concepts of configuration - YAML"
   ]
  },
  {
   "cell_type": "markdown",
   "metadata": {},
   "source": [
    "* YAML is a human readable data-serialisation language used for configuration file s and in applications hwre dat is being stored or transmitted. "
   ]
  },
  {
   "cell_type": "markdown",
   "metadata": {},
   "source": [
    "## What do we have available in AOGEODH?"
   ]
  },
  {
   "cell_type": "markdown",
   "metadata": {},
   "source": [
    "** http://aogeo-ips.s3-website-ap-southeast-2.amazonaws.com"
   ]
  },
  {
   "cell_type": "code",
   "execution_count": null,
   "metadata": {},
   "outputs": [],
   "source": [
    "** https://aogeo-ips.s3-ap-southeast-2.amazonaws.com/jaxa/jaxa_jsar_mosaic_1/mekongdelta/1998/N15E105_J98_MOS.tar.gz"
   ]
  },
  {
   "cell_type": "code",
   "execution_count": 36,
   "metadata": {},
   "outputs": [
    {
     "name": "stdout",
     "output_type": "stream",
     "text": [
      "tar: Cannot connect to http: resolve failed\r\n"
     ]
    }
   ],
   "source": [
    "!tar -tvf /vsitar/http://aogeo-ips.s3-ap-southeast-2.amazonaws.com/jaxa/jaxa_jsar_mosaic_1/mekongdelta/1998/N15E105_J98_MOS.tar.gz"
   ]
  },
  {
   "cell_type": "code",
   "execution_count": 30,
   "metadata": {},
   "outputs": [],
   "source": [
    "# Expand example datasets to avoid the tgz / and other nasty bits of file handling."
   ]
  },
  {
   "cell_type": "markdown",
   "metadata": {},
   "source": [
    "## Datacube commands"
   ]
  },
  {
   "cell_type": "code",
   "execution_count": 22,
   "metadata": {},
   "outputs": [],
   "source": [
    "from datacube import Datacube"
   ]
  },
  {
   "cell_type": "code",
   "execution_count": 26,
   "metadata": {},
   "outputs": [
    {
     "ename": "TypeError",
     "evalue": "list_products() missing 1 required positional argument: 'self'",
     "output_type": "error",
     "traceback": [
      "\u001b[0;31m---------------------------------------------------------------------------\u001b[0m",
      "\u001b[0;31mTypeError\u001b[0m                                 Traceback (most recent call last)",
      "\u001b[0;32m<ipython-input-26-4b8c326612a8>\u001b[0m in \u001b[0;36m<module>\u001b[0;34m\u001b[0m\n\u001b[0;32m----> 1\u001b[0;31m \u001b[0mDatacube\u001b[0m\u001b[0;34m.\u001b[0m\u001b[0mlist_products\u001b[0m\u001b[0;34m(\u001b[0m\u001b[0;34m)\u001b[0m\u001b[0;34m\u001b[0m\u001b[0;34m\u001b[0m\u001b[0m\n\u001b[0m",
      "\u001b[0;31mTypeError\u001b[0m: list_products() missing 1 required positional argument: 'self'"
     ]
    }
   ],
   "source": [
    "Datacube.list_products()"
   ]
  },
  {
   "cell_type": "code",
   "execution_count": null,
   "metadata": {},
   "outputs": [],
   "source": [
    "#https://aogeo-ips.s3-ap-southeast-2.amazonaws.com"
   ]
  }
 ],
 "metadata": {
  "kernelspec": {
   "display_name": "Python 3",
   "language": "python",
   "name": "python3"
  },
  "language_info": {
   "codemirror_mode": {
    "name": "ipython",
    "version": 3
   },
   "file_extension": ".py",
   "mimetype": "text/x-python",
   "name": "python",
   "nbconvert_exporter": "python",
   "pygments_lexer": "ipython3",
   "version": "3.6.11"
  }
 },
 "nbformat": 4,
 "nbformat_minor": 4
}
